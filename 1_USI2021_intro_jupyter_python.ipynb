{
 "cells": [
  {
   "cell_type": "markdown",
   "metadata": {},
   "source": [
    "# Introduction to Web Scraping with Python\n",
    "\n",
    "#### CEMFI Undergraduate Summer Internship 2021\n",
    "\n",
    "#### Instructor: Cay"
   ]
  },
  {
   "cell_type": "markdown",
   "metadata": {},
   "source": [
    "# Course Outline\n",
    "\n",
    "1. **Introduction: Python and Jupyter Notebooks**\n",
    "1. Web Scraping Example 1\n",
    "1. Web Scraping Example 2"
   ]
  },
  {
   "cell_type": "markdown",
   "metadata": {},
   "source": [
    "# Introduction: Python and Jupyter Notebooks\n",
    "\n",
    "- This section of the course is based on a lecture series from [Quantitative Economics with Python](https://quantecon.org/python-lectures/), an amazing resource for learning Python for economic modelling. "
   ]
  },
  {
   "cell_type": "markdown",
   "metadata": {},
   "source": [
    "## What's Python?\n",
    "\n",
    "[Python](https://www.python.org) is a free and open source general-purpose programming language conceived in 1989.\n"
   ]
  },
  {
   "cell_type": "markdown",
   "metadata": {},
   "source": [
    "### Common Uses (General)\n",
    "\n",
    "Python is used in a wide variety of application domains:\n",
    "- Web development.  \n",
    "- Computer generated imagery.\n",
    "- Game development.  \n",
    "- Data processing, etc., etc., etc.  "
   ]
  },
  {
   "cell_type": "markdown",
   "metadata": {},
   "source": [
    "### Uses in Economics\n",
    "\n",
    "In economics, it is probably true that Stata, MATLAB, and R are still dominant.\n",
    "\n",
    "But Python is **beginning** to rise...\n",
    "\n",
    "It can be used to: \n",
    "\n",
    "- Economic modelling like in MATLAB or Julia (not this course).\n",
    "- __Data and empirics:__\n",
    "  - __Get data: web scraping__ (most of this course), digitalization of maps, etc. \n",
    "  - Clean/organize data: Stata also good for that but Python has an edge on unstructured data (e.g. text-heavy).\n",
    "  - Visualize data: very nice plots!\n",
    "  - Analyze data: econometrics (as of today, probably it is still easier to use Stata but...)"
   ]
  },
  {
   "cell_type": "markdown",
   "metadata": {},
   "source": [
    "### Resources to learn Python\n",
    "\n",
    "General purpose:\n",
    "- [Beginner's Guide to Python](https://wiki.python.org/moin/BeginnersGuide/)\n",
    "- [Codecademy](https://www.codecademy.com/catalog/language/python)\n",
    "\n",
    "\n",
    "For economics:\n",
    "- [Quantitative Economics with Python](https://quantecon.org/python-lectures/) by Thomas J. Sargent and John Stachurski (I recommend this one!)\n"
   ]
  },
  {
   "cell_type": "markdown",
   "metadata": {},
   "source": [
    "## Download options\n",
    "\n",
    "1. Official website [https://www.python.org/downloads/](https://www.python.org/downloads/)\n",
    " \n",
    " - Easy to install (click on download, double click the file and you are done).\n",
    " - To do **just web scraping** it would probably be good enough.\n",
    " - But you may need to further install separate packages to do more complex economic modelling.\n",
    "\n",
    "\n",
    "2. [Anaconda](https://www.anaconda.com/what-is-anaconda/) (recommended)\n",
    "\n",
    " - Free and open-source distribution of Python (and R) for scientific computing.\n",
    " - Includes lots of data-science packages. \n",
    " - *Makes our life easier:* automates the process of installing, upgrading, configuring, and removing packages in a consistent manner."
   ]
  },
  {
   "cell_type": "markdown",
   "metadata": {},
   "source": [
    "### Installing Anaconda\n",
    "\n",
    "To install Anaconda, [download](https://www.anaconda.com/download/) the binary and follow the instructions.\n",
    "\n",
    "**Hopefully**, some of you already have Anaconda installed by now."
   ]
  },
  {
   "cell_type": "markdown",
   "metadata": {},
   "source": [
    "### Executing Python code"
   ]
  },
  {
   "cell_type": "markdown",
   "metadata": {},
   "source": [
    "#### System Terminal\n",
    "\n",
    "You can run Python directly from the system terminal (show how to do it)."
   ]
  },
  {
   "cell_type": "markdown",
   "metadata": {},
   "source": [
    "#### Integrated development environment (IDE)\n",
    "\n",
    "- With an IDE you can:\n",
    "    - Write and execute code from one program.\n",
    "    - May offer code completion, syntax highlighting, debugging tools, many more (depends on the IDE)...\n",
    "<br><br>  \n",
    "- Examples of IDE:\n",
    "    - __IDLE:__ comes with the default implementation of the language.\n",
    "    - __Spyder:__ comes with Anaconda, specifically built for data science, interface familiar to those used to Matlab or R.\n",
    "    - __PyCharm:__ very popular and provides support for other languages like JavaScript, HTML/CSS, etc (good option for web development).\n",
    "    - Other options: Atom, Visual Studio Code, nteract, Sublime Text.\n",
    "<br><br>\n",
    "- But in our classes we use: [__Jupyter Notebooks__](https://jupyter.org/)"
   ]
  },
  {
   "cell_type": "markdown",
   "metadata": {},
   "source": [
    "## Jupyter Notebook\n",
    "\n",
    "__[Jupyter](http://jupyter.org/)__ notebook uses a *browser-based* interface to Python and provides:\n",
    "- The ability to write and execute Python commands.  \n",
    "- Formatted output in the browser, including tables, figures, animation, etc.  \n",
    "- The option to mix in formatted text and mathematical expressions.    \n",
    "\n",
    "__Jupyter__ is great for:\n",
    "- Start coding in Python.  \n",
    "- Test new ideas or interact with small pieces of code.  \n",
    "\n",
    "__Note:__ for the purposes of this class Jupyter is ideal but once you have to produce more complex and longer codes...\n",
    "- Probably a good idea to move to one of the IDEs discussed above.\n",
    "- They are better for organizing complex codes and reproducing the results."
   ]
  },
  {
   "cell_type": "markdown",
   "metadata": {},
   "source": [
    "### Starting the Jupyter Notebook\n",
    "\n",
    "Once you have installed Anaconda, there are different ways to start a jupyter notebook:\n",
    "\n",
    "1. Search for the `Anaconda-Navigator` in your applications menu, open it and click on `JupyterLab` (or `Notebook`)\n",
    "\n",
    "2. Open up a `terminal` (on Mac) or `Anaconda command prompt` (on Windows) and type `jupyter lab` (or `jupyter notebook`)  "
   ]
  },
  {
   "cell_type": "markdown",
   "metadata": {},
   "source": [
    "### Any questions?"
   ]
  },
  {
   "cell_type": "markdown",
   "metadata": {},
   "source": [
    "### Notebook Basics\n",
    "\n",
    "Let’s start with how to edit code and run simple programs."
   ]
  },
  {
   "cell_type": "markdown",
   "metadata": {},
   "source": [
    "#### Running Cells\n",
    "\n",
    "To execute the code in a cell, hit `Shift+Enter` instead of the usual `Enter`."
   ]
  },
  {
   "cell_type": "markdown",
   "metadata": {},
   "source": [
    "#### Modal Editing\n",
    "\n",
    "A particular feature of Jupyter notebooks is that it uses a *modal* editing system.\n",
    "\n",
    "This means that the effect of typing at the keyboard **depends on which mode you are in**.\n",
    "\n",
    "1. Edit mode\n",
    "    - Whatever you type appears in that cell.\n",
    "1. Command mode  \n",
    "    - Keystrokes are interpreted as commands — for example, typing `b` adds a new cell below  the current one.  \n",
    "\n",
    "To switch:\n",
    "- Command mode to edit mode: hit `Enter` or click in a cell.\n",
    "- Edit mode to command mode: hit the `Esc` key."
   ]
  },
  {
   "cell_type": "markdown",
   "metadata": {},
   "source": [
    "#### Cell Type\n",
    "\n",
    "Cells can be of different types, the two we will use are `Code` and `Markdown`.\n",
    "\n",
    "1. **Code:** to write Python code.  \n",
    "1. **Markdown:** to write formatted text like in this cell.  \n",
    "\n",
    "To switch between types you can either do it using the dropdown list above or, while in `command` mode:\n",
    "\n",
    "- From Code to Markdown: press `m`\n",
    "- From Markdown to Code: press `y`\n",
    "\n",
    "**Note:** the behavior of the Jupyter notebook may look a bit confusing at first but it is very efficient when you get used to it."
   ]
  },
  {
   "cell_type": "markdown",
   "metadata": {},
   "source": [
    "#### Working with Python Files\n",
    "\n",
    "So far we’ve focused on executing Python code entered into a Jupyter notebook cell or opening a notebook file `ipynb`.\n",
    "\n",
    "Traditionally most Python code is simply a text file with the `.py` extension.\n",
    "\n",
    "If you come across code saved in a `*.py` file, and you want to load it to your Jupyter Notebook you simply do `%load file.py`.\n",
    "\n",
    "The entire text file will be loaded to that cell."
   ]
  },
  {
   "cell_type": "code",
   "execution_count": null,
   "metadata": {},
   "outputs": [],
   "source": [
    "# %load \"sq_function.py\"\n",
    "def squared(x):\n",
    "    return x**2"
   ]
  },
  {
   "cell_type": "code",
   "execution_count": null,
   "metadata": {},
   "outputs": [],
   "source": [
    "# %load \"/Users/cayrua/Desktop/USI/sq_function.py\"\n",
    "def squared(x):\n",
    "    return x**2\n"
   ]
  },
  {
   "cell_type": "markdown",
   "metadata": {},
   "source": [
    "**Note:**\n",
    "\n",
    "If you work on Windows and copy the path to a file you may get folders separated by `\\`, which python does not read correctly.\n",
    "\n",
    "Modify the string with the path so that folders are separated with `/` or `\\\\`. Another alternative is to use `r` before the *path*.\n",
    "\n",
    "\n",
    "- `\"C:\\Users\\cayrua\\Desktop\\USI\\sq_function.py\"` **will not work**\n",
    "\n",
    "But all of the options below will:\n",
    "- `\"C:/Users/cayrua/Desktop/USI/sq_function.py\"`\n",
    "- `\"C:\\\\Users\\\\cayrua\\\\Desktop\\\\USI\\\\sq_function.py\"`\n",
    "- `r\"C:\\Users\\cayrua\\Desktop\\USI\\sq_function.py\"`"
   ]
  },
  {
   "cell_type": "markdown",
   "metadata": {},
   "source": [
    "We can also write (create) a `.py` file by"
   ]
  },
  {
   "cell_type": "code",
   "execution_count": null,
   "metadata": {},
   "outputs": [],
   "source": [
    "%%writefile cube_function.py\n",
    "def cube(x):\n",
    "    return x**3"
   ]
  },
  {
   "cell_type": "markdown",
   "metadata": {},
   "source": [
    "#### More tips on Jupyter Notebook\n",
    "\n",
    "There are many other tips on working with Jupyter Notebooks, go to [Quantitative Economics with Python](https://python-programming.quantecon.org/) to learn more."
   ]
  },
  {
   "cell_type": "markdown",
   "metadata": {},
   "source": [
    "### Any questions?"
   ]
  },
  {
   "cell_type": "markdown",
   "metadata": {},
   "source": [
    "# Python Basics"
   ]
  },
  {
   "cell_type": "markdown",
   "metadata": {},
   "source": [
    "## Data Types\n",
    "\n",
    "Here we discuss only a few of the standard (built-in) Python data types:"
   ]
  },
  {
   "cell_type": "markdown",
   "metadata": {},
   "source": [
    "### Numeric"
   ]
  },
  {
   "cell_type": "markdown",
   "metadata": {},
   "source": [
    "Any representation of data which has a numeric value."
   ]
  },
  {
   "cell_type": "markdown",
   "metadata": {},
   "source": [
    "We can check the type of any object in memory using the `type()` function."
   ]
  },
  {
   "cell_type": "code",
   "execution_count": null,
   "metadata": {},
   "outputs": [],
   "source": [
    "# \n",
    "type(1), type(1.5)"
   ]
  },
  {
   "cell_type": "markdown",
   "metadata": {},
   "source": [
    "### Boolean\n",
    "\n",
    "Data with one of two values `True` or `False`. "
   ]
  },
  {
   "cell_type": "code",
   "execution_count": null,
   "metadata": {},
   "outputs": [],
   "source": [
    "x = True"
   ]
  },
  {
   "cell_type": "code",
   "execution_count": null,
   "metadata": {},
   "outputs": [],
   "source": [
    "x"
   ]
  },
  {
   "cell_type": "code",
   "execution_count": null,
   "metadata": {},
   "outputs": [],
   "source": [
    "type(x)"
   ]
  },
  {
   "cell_type": "code",
   "execution_count": null,
   "metadata": {},
   "outputs": [],
   "source": [
    "w = True"
   ]
  },
  {
   "cell_type": "markdown",
   "metadata": {},
   "source": [
    "### Strings\n",
    "\n",
    "A collection of one or more characters put in single or double quotes.\n",
    "\n",
    "**Note:** strings are usually important in web scraping applications."
   ]
  },
  {
   "cell_type": "markdown",
   "metadata": {},
   "source": [
    "**Example:** we can make operations on strings, see below:"
   ]
  },
  {
   "cell_type": "code",
   "execution_count": null,
   "metadata": {},
   "outputs": [],
   "source": [
    "x = 'web'          # single quotes\n",
    "y = \"scraping\"     # double quotes\n",
    "z = 4"
   ]
  },
  {
   "cell_type": "code",
   "execution_count": null,
   "metadata": {},
   "outputs": [],
   "source": [
    "# sum strings\n",
    "print(x + y)"
   ]
  },
  {
   "cell_type": "code",
   "execution_count": null,
   "metadata": {},
   "outputs": [],
   "source": [
    "# multiply string times number\n",
    "# we can see the output with using the print command\n",
    "x*z"
   ]
  },
  {
   "cell_type": "markdown",
   "metadata": {},
   "source": [
    "We can also select only parts of a string:"
   ]
  },
  {
   "cell_type": "code",
   "execution_count": null,
   "metadata": {},
   "outputs": [],
   "source": [
    "# remember Python starts indices with a zero \n",
    "x[0]"
   ]
  },
  {
   "cell_type": "code",
   "execution_count": null,
   "metadata": {},
   "outputs": [],
   "source": [
    "# a slice of a string: string_var[a:b] outputs the slice from a to (b-1)\n",
    "# string_var[a:b] delivers b-a characters\n",
    "y[ -2 :  ]  "
   ]
  },
  {
   "cell_type": "markdown",
   "metadata": {},
   "source": [
    "### Lists\n",
    "\n",
    "An *ordered* collection of one or more data items, not necessarily of the same type.\n",
    "\n",
    "When we use **square brackets** `[]` after the `=` sign, Python understands we want to create a **list**."
   ]
  },
  {
   "cell_type": "code",
   "execution_count": null,
   "metadata": {},
   "outputs": [],
   "source": [
    "# a list of elements of different types\n",
    "x = [10, 'web', False]\n",
    "print(type(x))\n",
    "print(x)"
   ]
  },
  {
   "cell_type": "markdown",
   "metadata": {},
   "source": [
    "The first element of `x` is an `integer`, the second is a `string`, and the third is a `Boolean`.\n",
    "\n",
    "When adding an element to a list, we can use: `list_name.append(element)`"
   ]
  },
  {
   "cell_type": "code",
   "execution_count": null,
   "metadata": {},
   "outputs": [],
   "source": [
    "x.append(\"extraValue\")"
   ]
  },
  {
   "cell_type": "code",
   "execution_count": null,
   "metadata": {},
   "outputs": [],
   "source": [
    "x"
   ]
  },
  {
   "cell_type": "markdown",
   "metadata": {},
   "source": [
    "Here `append()` is what’s called a *method*, which is a function “attached to” an object—in this case, the list `x`.\n",
    "\n",
    "Python objects such as lists, strings, etc. all have methods that are used to manipulate the data contained in the object.\n",
    "\n",
    "String objects have [string methods](https://docs.python.org/3/library/stdtypes.html#string-methods), list objects have [list methods](https://docs.python.org/3/tutorial/datastructures.html#more-on-lists), etc.  \n",
    "\n",
    "\n",
    "Another useful list method for lists is `list_name.pop()`"
   ]
  },
  {
   "cell_type": "code",
   "execution_count": null,
   "metadata": {},
   "outputs": [],
   "source": [
    "x"
   ]
  },
  {
   "cell_type": "code",
   "execution_count": null,
   "metadata": {},
   "outputs": [],
   "source": [
    "x.pop()"
   ]
  },
  {
   "cell_type": "code",
   "execution_count": null,
   "metadata": {},
   "outputs": [],
   "source": [
    "x"
   ]
  },
  {
   "cell_type": "markdown",
   "metadata": {},
   "source": [
    "The first element is referenced by `exampleList[0]`"
   ]
  },
  {
   "cell_type": "code",
   "execution_count": null,
   "metadata": {},
   "outputs": [],
   "source": [
    "x"
   ]
  },
  {
   "cell_type": "code",
   "execution_count": null,
   "metadata": {},
   "outputs": [],
   "source": [
    "x[0]"
   ]
  },
  {
   "cell_type": "code",
   "execution_count": null,
   "metadata": {},
   "outputs": [],
   "source": [
    "x[2]"
   ]
  },
  {
   "cell_type": "markdown",
   "metadata": {},
   "source": [
    "Python lists are __mutable__:"
   ]
  },
  {
   "cell_type": "code",
   "execution_count": null,
   "metadata": {},
   "outputs": [],
   "source": [
    "x = [1, 2]"
   ]
  },
  {
   "cell_type": "code",
   "execution_count": null,
   "metadata": {},
   "outputs": [],
   "source": [
    "x"
   ]
  },
  {
   "cell_type": "code",
   "execution_count": null,
   "metadata": {},
   "outputs": [],
   "source": [
    "x[0]"
   ]
  },
  {
   "cell_type": "code",
   "execution_count": null,
   "metadata": {},
   "outputs": [],
   "source": [
    "x[0] = 10"
   ]
  },
  {
   "cell_type": "code",
   "execution_count": null,
   "metadata": {},
   "outputs": [],
   "source": [
    "x"
   ]
  },
  {
   "cell_type": "markdown",
   "metadata": {},
   "source": [
    "#### Slice Notation\n",
    "\n",
    "To access multiple elements of a list, you can use Python’s slice notation.\n",
    "\n",
    "For example,"
   ]
  },
  {
   "cell_type": "code",
   "execution_count": null,
   "metadata": {},
   "outputs": [],
   "source": [
    "a = [2, 4, 6, 8]"
   ]
  },
  {
   "cell_type": "code",
   "execution_count": null,
   "metadata": {},
   "outputs": [],
   "source": [
    "# standard is [a,b] => from a to b-1\n",
    "a[1:3]"
   ]
  },
  {
   "cell_type": "code",
   "execution_count": null,
   "metadata": {},
   "outputs": [],
   "source": [
    "a[:2] # from second element until the end"
   ]
  },
  {
   "cell_type": "code",
   "execution_count": null,
   "metadata": {},
   "outputs": [],
   "source": [
    "a[-2:]  # Last two elements of the list"
   ]
  },
  {
   "cell_type": "markdown",
   "metadata": {},
   "source": [
    "### Dictionaries\n",
    "\n",
    "A dictionary is an unordered collection of data in a `key:value` pair form. \n",
    "\n",
    "Dictionaries are very much like lists, except that the elements are named with a `key` instead of numbered by their order."
   ]
  },
  {
   "cell_type": "code",
   "execution_count": null,
   "metadata": {},
   "outputs": [],
   "source": [
    "# lists are ordered\n",
    "a = [2, 4, 6, 8]\n",
    "# get first element\n",
    "a[0]"
   ]
  },
  {
   "cell_type": "code",
   "execution_count": null,
   "metadata": {},
   "outputs": [],
   "source": [
    "# dictionary values are indexed by a key (which could also be a number)\n",
    "d = {'author' : 'Plato' , 'book': 'The Republic', 'pages': 404}\n",
    "type(d)"
   ]
  },
  {
   "cell_type": "code",
   "execution_count": null,
   "metadata": {},
   "outputs": [],
   "source": [
    "# Plato is not the first element in order\n",
    "d[0]"
   ]
  },
  {
   "cell_type": "code",
   "execution_count": null,
   "metadata": {},
   "outputs": [],
   "source": [
    "# it is the value of the key called author\n",
    "d['author'] "
   ]
  },
  {
   "cell_type": "markdown",
   "metadata": {},
   "source": [
    "The names `'author'`, `'book'` and `'pages'` are called the *keys*.\n",
    "\n",
    "The objects that the keys are mapped to (`'Plato'`, `'The Republic'`  and `404`) are called the `values`."
   ]
  },
  {
   "cell_type": "markdown",
   "metadata": {},
   "source": [
    "### Any questions?"
   ]
  },
  {
   "cell_type": "markdown",
   "metadata": {},
   "source": [
    "## Loops"
   ]
  },
  {
   "cell_type": "markdown",
   "metadata": {},
   "source": [
    "One common task in web scraping is stepping through a sequence of data and performing a given action.\n",
    "\n",
    "One of Python’s strengths is its simple, flexible interface to this kind of loop/iteration.\n",
    "\n",
    "It is particularly useful to know that `lists` and `dictionaries` are __iterable__."
   ]
  },
  {
   "cell_type": "markdown",
   "metadata": {},
   "source": [
    "#### Loop over dictionaries"
   ]
  },
  {
   "cell_type": "code",
   "execution_count": null,
   "metadata": {},
   "outputs": [],
   "source": [
    "# dictionary\n",
    "d"
   ]
  },
  {
   "cell_type": "code",
   "execution_count": null,
   "metadata": {
    "scrolled": true
   },
   "outputs": [],
   "source": [
    "# to get keys only\n",
    "for a in d:\n",
    "    print(a)"
   ]
  },
  {
   "cell_type": "code",
   "execution_count": null,
   "metadata": {},
   "outputs": [],
   "source": [
    "# to get values only\n",
    "for v in d.values():\n",
    "    print(v)"
   ]
  },
  {
   "cell_type": "code",
   "execution_count": null,
   "metadata": {},
   "outputs": [],
   "source": [
    "# to get a tuple with both key and value\n",
    "for i in d.items():\n",
    "    print(i)"
   ]
  },
  {
   "cell_type": "code",
   "execution_count": null,
   "metadata": {},
   "outputs": [],
   "source": [
    "# to get both key and values but as separate objects\n",
    "for a in d:\n",
    "    print(a , \"=>\" , d[a] )"
   ]
  },
  {
   "cell_type": "markdown",
   "metadata": {},
   "source": [
    "#### Loop over lists"
   ]
  },
  {
   "cell_type": "code",
   "execution_count": null,
   "metadata": {},
   "outputs": [],
   "source": [
    "# a list\n",
    "social_sciences = ['anthropology', 'sociology', 'psychology', 'political science', 'economics']"
   ]
  },
  {
   "cell_type": "code",
   "execution_count": null,
   "metadata": {},
   "outputs": [],
   "source": [
    "# another more \"pythonean\" way\n",
    "for i in social_sciences:\n",
    "    print(i)"
   ]
  },
  {
   "cell_type": "code",
   "execution_count": null,
   "metadata": {},
   "outputs": [],
   "source": [
    "# we can also get index and value in the same iteration: remember indices in python start from zero\n",
    "for idx, value in enumerate(social_sciences):\n",
    "    position = str(idx)\n",
    "    print(\"List's item in position \" + position + \" is \" + value)"
   ]
  },
  {
   "cell_type": "markdown",
   "metadata": {},
   "source": [
    "## Functions and Imports"
   ]
  },
  {
   "cell_type": "markdown",
   "metadata": {},
   "source": [
    "Three broad types of functions:\n",
    "\n",
    "1. __Built-in__ functions.\n",
    "1. __User defined__ functions.\n",
    "1. Functions from __external modules__ that have to be __imported__."
   ]
  },
  {
   "cell_type": "markdown",
   "metadata": {},
   "source": [
    "### Built-in functions"
   ]
  },
  {
   "cell_type": "markdown",
   "metadata": {},
   "source": [
    "We have already used quite a few.\n",
    "\n",
    "The structure is `function(argument)`."
   ]
  },
  {
   "cell_type": "code",
   "execution_count": null,
   "metadata": {},
   "outputs": [],
   "source": [
    "# Returns a sequence of numbers, starting from 0 and increments by 1 (by default)\n",
    "list(range(10))"
   ]
  },
  {
   "cell_type": "code",
   "execution_count": null,
   "metadata": {},
   "outputs": [],
   "source": [
    "# the sorted function\n",
    "letters = ['c', 'z', 'a', 'p', 'd']\n",
    "letters"
   ]
  },
  {
   "cell_type": "code",
   "execution_count": null,
   "metadata": {},
   "outputs": [],
   "source": [
    "sorted(letters)"
   ]
  },
  {
   "cell_type": "markdown",
   "metadata": {},
   "source": [
    "Many more examples...."
   ]
  },
  {
   "cell_type": "markdown",
   "metadata": {},
   "source": [
    "### User defined functions"
   ]
  },
  {
   "cell_type": "code",
   "execution_count": null,
   "metadata": {},
   "outputs": [],
   "source": [
    "def name_of_function(x):\n",
    "    \"\"\"\n",
    "    This function return whether its argument is non-negative or not\n",
    "    \"\"\"\n",
    "    if x < 0:\n",
    "        return 'negative'\n",
    "\n",
    "    return 'nonnegative'"
   ]
  },
  {
   "cell_type": "code",
   "execution_count": null,
   "metadata": {},
   "outputs": [],
   "source": [
    "# if no argument is passed, python throws an error\n",
    "name_of_function()"
   ]
  },
  {
   "cell_type": "code",
   "execution_count": null,
   "metadata": {},
   "outputs": [],
   "source": [
    "# we need to pass the argument\n",
    "name_of_function(-5)"
   ]
  },
  {
   "cell_type": "code",
   "execution_count": null,
   "metadata": {},
   "outputs": [],
   "source": [
    "# we need to pass the argument\n",
    "name_of_function(5)"
   ]
  },
  {
   "cell_type": "markdown",
   "metadata": {},
   "source": [
    "### Functions from external modules, packages and libraries."
   ]
  },
  {
   "cell_type": "markdown",
   "metadata": {},
   "source": [
    "Function < Module < Package < Library.\n",
    "\n",
    "There are many ways to import modules/packages/libraries.\n",
    "\n",
    "Here are some examples:"
   ]
  },
  {
   "cell_type": "markdown",
   "metadata": {},
   "source": [
    "#### Numpy"
   ]
  },
  {
   "cell_type": "code",
   "execution_count": null,
   "metadata": {},
   "outputs": [],
   "source": [
    "# if we try to use Numpy without importing it we get an error\n",
    "numpy.random.randn()"
   ]
  },
  {
   "cell_type": "code",
   "execution_count": null,
   "metadata": {},
   "outputs": [],
   "source": [
    "# one way to import\n",
    "import numpy"
   ]
  },
  {
   "cell_type": "code",
   "execution_count": null,
   "metadata": {},
   "outputs": [],
   "source": [
    "# get a random draw from a standard normal using numpy \n",
    "numpy.random.randn()"
   ]
  },
  {
   "cell_type": "code",
   "execution_count": null,
   "metadata": {},
   "outputs": [],
   "source": [
    "# another option is to import directly the function you need\n",
    "from numpy.random import randn"
   ]
  },
  {
   "cell_type": "code",
   "execution_count": null,
   "metadata": {},
   "outputs": [],
   "source": [
    "randn()"
   ]
  },
  {
   "cell_type": "code",
   "execution_count": null,
   "metadata": {},
   "outputs": [],
   "source": [
    "# More common to import with short name!\n",
    "import numpy as np"
   ]
  },
  {
   "cell_type": "code",
   "execution_count": null,
   "metadata": {},
   "outputs": [],
   "source": [
    "np.random.randn()"
   ]
  },
  {
   "cell_type": "markdown",
   "metadata": {},
   "source": [
    "#### Matplotlib"
   ]
  },
  {
   "cell_type": "code",
   "execution_count": null,
   "metadata": {},
   "outputs": [],
   "source": [
    "# standard way to import it \n",
    "import matplotlib.pyplot as plt"
   ]
  },
  {
   "cell_type": "code",
   "execution_count": null,
   "metadata": {},
   "outputs": [],
   "source": [
    "# pass on any list to it and it will plot\n",
    "\n",
    "# list by list comprehension\n",
    "x = [ a**2 for a in range(101) ]\n",
    "\n",
    "# plt.plot(list) plots the list\n",
    "plt.plot(x);"
   ]
  },
  {
   "cell_type": "markdown",
   "metadata": {},
   "source": [
    "### Any questions?"
   ]
  }
 ],
 "metadata": {
  "date": 1592451373.6478696,
  "filename": "about_py.rst",
  "kernelspec": {
   "display_name": "Python 3 (ipykernel)",
   "language": "python",
   "name": "python3"
  },
  "language_info": {
   "codemirror_mode": {
    "name": "ipython",
    "version": 3
   },
   "file_extension": ".py",
   "mimetype": "text/x-python",
   "name": "python",
   "nbconvert_exporter": "python",
   "pygments_lexer": "ipython3",
   "version": "3.9.7"
  },
  "next_doc": {
   "link": "getting_started",
   "title": "Setting up Your Python Environment"
  },
  "prev_doc": {
   "link": "index_learning_python",
   "title": "Introduction to Python"
  },
  "title": "About Python",
  "varInspector": {
   "cols": {
    "lenName": 16,
    "lenType": 16,
    "lenVar": 40
   },
   "kernels_config": {
    "python": {
     "delete_cmd_postfix": "",
     "delete_cmd_prefix": "del ",
     "library": "var_list.py",
     "varRefreshCmd": "print(var_dic_list())"
    },
    "r": {
     "delete_cmd_postfix": ") ",
     "delete_cmd_prefix": "rm(",
     "library": "var_list.r",
     "varRefreshCmd": "cat(var_dic_list()) "
    }
   },
   "types_to_exclude": [
    "module",
    "function",
    "builtin_function_or_method",
    "instance",
    "_Feature"
   ],
   "window_display": false
  }
 },
 "nbformat": 4,
 "nbformat_minor": 4
}
